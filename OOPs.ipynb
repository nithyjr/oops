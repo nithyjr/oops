{
  "nbformat": 4,
  "nbformat_minor": 0,
  "metadata": {
    "colab": {
      "provenance": []
    },
    "kernelspec": {
      "name": "python3",
      "display_name": "Python 3"
    },
    "language_info": {
      "name": "python"
    }
  },
  "cells": [
    {
      "cell_type": "markdown",
      "source": [
        "\n",
        "\n",
        "1. What is Object-Oriented Programming (OOP)?\n",
        "\n",
        "      OOP is a programming paradigm based on the concept of objects, which are instances of classes. It focuses on organizing code into reusable structures, promoting inheritance, polymorphism, encapsulation, and abstraction.\n",
        "\n",
        "2. What is a class in OOP?\n",
        "\n",
        "      A class is a blueprint for creating objects. It defines attributes (data) and methods (functions) that represent the behavior of objects created from it.\n",
        "\n",
        "3. What is an object in OOP?\n",
        "\n",
        "      An object is an instance of a class. It is a specific realization of the class with its own unique set of attributes and methods.\n",
        "\n",
        "4. What is the difference between abstraction and encapsulation?\n",
        "\n",
        "      Abstraction hides the complexity of the implementation and exposes only the essential features. Encapsulation refers to bundling data and methods that operate on the data within a class, restricting direct access to some of the object's components.\n",
        "\n",
        "5. What are dunder methods in Python?\n",
        "\n",
        "      Dunder (double underscore) methods are special methods in Python that start and end with double underscores, such as __init__, __str__, __repr__, etc., used to define the behavior of objects for built-in operations.\n",
        "\n",
        "6. Explain the concept of inheritance in OOP?\n",
        "\n",
        "      Inheritance allows a class to inherit attributes and methods from another class, enabling code reuse and the creation of hierarchies.\n",
        "\n",
        "7. What is polymorphism in OOP?\n",
        "\n",
        "      Polymorphism allows objects of different classes to be treated as objects of a common superclass, enabling the same method or function to behave differently based on the object type.\n",
        "\n",
        "8. How is encapsulation achieved in Python?\n",
        "\n",
        "      Encapsulation is achieved by restricting access to certain attributes or methods by using private or protected access modifiers (e.g., prefixing an attribute with _ or __).\n",
        "\n",
        "9. What is a constructor in Python?\n",
        "\n",
        "      A constructor is a special method __init__ that is automatically called when an object is created, used to initialize the object's attributes.\n",
        "\n",
        "10. What are class and static methods in Python?\n",
        "\n",
        "      A class method is a method that takes the class as the first argument (cls) and is defined using @classmethod. A static method is a method that does not take self or cls as the first argument and is defined using @staticmethod.\n",
        "\n",
        "11. What is method overloading in Python?\n",
        "\n",
        "      Method overloading allows multiple methods with the same name but different arguments. Python does not support traditional overloading directly, but it can be simulated using default arguments or variable-length arguments.\n",
        "\n",
        "12. What is method overriding in OOP?\n",
        "\n",
        "      Method overriding occurs when a subclass provides its own implementation of a method that is already defined in its superclass.\n",
        "\n",
        "13. What is a property decorator in Python?\n",
        "\n",
        "      The @property decorator is used to define a method as a property, allowing it to be accessed like an attribute but executed like a method.\n",
        "\n",
        "14. Why is polymorphism important in OOP?\n",
        "\n",
        "      Polymorphism is important because it allows code to be more flexible and reusable, enabling the same function or method to work with objects of different types.\n",
        "\n",
        "15. What is an abstract class in Python?\n",
        "\n",
        "      An abstract class is a class that cannot be instantiated directly and is meant to be subclassed. It can contain abstract methods that must be implemented by its subclasses.\n",
        "\n",
        "16. What are the advantages of OOP?\n",
        "\n",
        "      The advantages include code reusability, easier maintenance, better organization, modularity, and the ability to model real-world entities.\n",
        "17. What is the difference between a class variable and an instance variable?\n",
        "\n",
        "      A class variable is shared by all instances of the class, while an instance variable is unique to each instance of the class.\n",
        "\n",
        "18. What is multiple inheritance in Python?\n",
        "\n",
        "      Multiple inheritance allows a class to inherit attributes and methods from more than one parent class.\n",
        "\n",
        "19. Explain the purpose of __str__ and __repr__ methods in Python?\n",
        "\n",
        "      __str__ is used to return a user-friendly string representation of an object, while __repr__ is used to return a more formal string representation, often used for debugging.\n",
        "\n",
        "20. What is the significance of the super() function in Python?\n",
        "\n",
        "      The super() function is used to call methods from a parent class, typically in method overriding scenarios.\n",
        "\n",
        "21. What is the significance of the __del__ method in Python?\n",
        "\n",
        "      The __del__ method is a destructor that is called when an object is about to be destroyed, used for cleanup purposes.\n",
        "\n",
        "22. What is the difference between @staticmethod and @classmethod in Python?\n",
        "\n",
        "      @staticmethod defines a method that does not require access to the instance or class. @classmethod defines a method that takes the class as its first argument.\n",
        "\n",
        "23. How does polymorphism work in Python with inheritance?\n",
        "\n",
        "      Polymorphism in Python allows derived classes to override methods of the base class, enabling different behaviors of the same method based on the object type.\n",
        "\n",
        "24. What is method chaining in Python OOP?\n",
        "\n",
        "      Method chaining allows calling multiple methods on the same object in a single statement, where each method returns self.\n",
        "\n",
        "25. What is the purpose of the __call__ method in Python?\n",
        "\n",
        "      The __call__ method allows an object to be called like a function. When the object is called, the __call__ method is invoked."
      ],
      "metadata": {
        "id": "O5YKaOyCl6My"
      }
    },
    {
      "cell_type": "code",
      "source": [
        "# 1.Create a parent class Animal with a method speak() that prints a generic message. Create a child class Dog\n",
        "# that overrides the speak() method to print \"Bark!\"\n",
        "class Animal:\n",
        "    def speak(self):\n",
        "        print(\"An animal makes a sound\")\n",
        "\n",
        "class Dog(Animal):\n",
        "    def speak(self):\n",
        "        print(\"Bark!\")\n",
        "\n",
        "animal = Animal()\n",
        "dog = Dog()\n",
        "\n",
        "\n",
        "animal.speak()\n",
        "dog.speak()\n"
      ],
      "metadata": {
        "colab": {
          "base_uri": "https://localhost:8080/"
        },
        "id": "gz3q_r_AAL9O",
        "outputId": "92e92ec0-4673-43e4-9ba1-9e5777f35f76"
      },
      "execution_count": null,
      "outputs": [
        {
          "output_type": "stream",
          "name": "stdout",
          "text": [
            "An animal makes a sound\n",
            "Bark!\n"
          ]
        }
      ]
    },
    {
      "cell_type": "code",
      "source": [
        "# 2. Write a program to create an abstract class Shape with a method area(). Derive classes Circle and Rectangle\n",
        "# from it and implement the area() method in both.\n",
        "\n",
        "from abc import ABC, abstractmethod\n",
        "import math\n",
        "\n",
        "class Shape(ABC):\n",
        "    @abstractmethod\n",
        "    def area(self):\n",
        "        pass\n",
        "\n",
        "class Circle(Shape):\n",
        "    def __init__(self, radius):\n",
        "        self.radius = radius\n",
        "\n",
        "    def area(self):\n",
        "        return math.pi * (self.radius ** 2)\n",
        "\n",
        "class Rectangle(Shape):\n",
        "    def __init__(self, length, width):\n",
        "        self.length = length\n",
        "        self.width = width\n",
        "\n",
        "    def area(self):\n",
        "        return self.length * self.width\n",
        "\n",
        "\n",
        "circle = Circle(5)\n",
        "print(circle.area())\n",
        "\n",
        "rectangle = Rectangle(4, 6)\n",
        "print(rectangle.area())"
      ],
      "metadata": {
        "colab": {
          "base_uri": "https://localhost:8080/"
        },
        "id": "-V_9YUknBYXU",
        "outputId": "65653eac-3e18-40fc-8c3a-de60a8adf10c"
      },
      "execution_count": null,
      "outputs": [
        {
          "output_type": "stream",
          "name": "stdout",
          "text": [
            "78.53981633974483\n",
            "24\n"
          ]
        }
      ]
    },
    {
      "cell_type": "code",
      "source": [
        "# 3. Implement a multi-level inheritance scenario where a class Vehicle has an attribute type. Derive a class Car\n",
        "# and further derive a class ElectricCar that adds a battery attribute.\n",
        "\n",
        "\n",
        "class Vehicle:\n",
        "    def __init__(self, type_):\n",
        "        self.type = type_\n",
        "\n",
        "class Car(Vehicle):\n",
        "    def __init__(self, type_, model):\n",
        "        super().__init__(type_)\n",
        "        self.model = model\n",
        "\n",
        "class ElectricCar(Car):\n",
        "    def __init__(self, type_, model, battery):\n",
        "        super().__init__(type_, model)\n",
        "        self.battery = battery\n",
        "\n",
        "\n",
        "electric_car = ElectricCar(\"Electric\", \"Tesla\", \"100kWh\")\n",
        "print(f\"{electric_car.type} - {electric_car.model} with {electric_car.battery} battery\")\n"
      ],
      "metadata": {
        "colab": {
          "base_uri": "https://localhost:8080/"
        },
        "id": "53iGwaW7B_d9",
        "outputId": "be27bd08-3b56-434c-dc50-92e163472ed9"
      },
      "execution_count": null,
      "outputs": [
        {
          "output_type": "stream",
          "name": "stdout",
          "text": [
            "Electric - Tesla with 100kWh battery\n"
          ]
        }
      ]
    },
    {
      "cell_type": "code",
      "source": [
        "# 4. Implement a multi-level inheritance scenario where a class Vehicle has an attribute type. Derive a class Car\n",
        "# and further derive a class ElectricCar that adds a battery attribute.\n",
        "\n",
        "class Vehicle:\n",
        "    def __init__(self, type_):\n",
        "        self.type = type_\n",
        "\n",
        "class Car(Vehicle):\n",
        "    def __init__(self, type_, model):\n",
        "        super().__init__(type_)\n",
        "        self.model = model\n",
        "\n",
        "class ElectricCar(Car):\n",
        "    def __init__(self, type_, model, battery):\n",
        "        super().__init__(type_, model)\n",
        "        self.battery = battery\n",
        "\n",
        "\n",
        "electric_car = ElectricCar(\"Electric\", \"Tesla\", \"100kWh\")\n",
        "print(f\"{electric_car.type} - {electric_car.model} with {electric_car.battery} battery\")\n"
      ],
      "metadata": {
        "colab": {
          "base_uri": "https://localhost:8080/"
        },
        "id": "anzv5lVfCIG1",
        "outputId": "2d8cec3f-134b-42db-cb55-e83621feba4b"
      },
      "execution_count": null,
      "outputs": [
        {
          "output_type": "stream",
          "name": "stdout",
          "text": [
            "Electric - Tesla with 100kWh battery\n"
          ]
        }
      ]
    },
    {
      "cell_type": "code",
      "source": [
        "# 5. Write a program to demonstrate encapsulation by creating a class BankAccount with private attributes\n",
        "# balance and methods to deposit, withdraw, and check balance.\n",
        "\n",
        "\n",
        "class BankAccount:\n",
        "    def __init__(self, balance):\n",
        "        self.__balance = balance\n",
        "\n",
        "    def deposit(self, amount):\n",
        "        self.__balance += amount\n",
        "\n",
        "    def withdraw(self, amount):\n",
        "        if amount <= self.__balance:\n",
        "            self.__balance -= amount\n",
        "        else:\n",
        "            print(\"Insufficient funds\")\n",
        "\n",
        "    def check_balance(self):\n",
        "        return self.__balance\n",
        "\n",
        "\n",
        "account = BankAccount(1000)\n",
        "account.deposit(500)\n",
        "account.withdraw(200)\n",
        "print(account.check_balance())\n"
      ],
      "metadata": {
        "colab": {
          "base_uri": "https://localhost:8080/"
        },
        "id": "8K1DAwFjCY9G",
        "outputId": "c04e005b-37b1-481d-ea63-ec6d2ec9d28e"
      },
      "execution_count": null,
      "outputs": [
        {
          "output_type": "stream",
          "name": "stdout",
          "text": [
            "1300\n"
          ]
        }
      ]
    },
    {
      "cell_type": "code",
      "source": [
        "# 6. Demonstrate runtime polymorphism using a method play() in a base class Instrument. Derive classes Guitar\n",
        "# and Piano that implement their own version of play().\n",
        "\n",
        "class Instrument:\n",
        "    def play(self):\n",
        "        print(\"Playing an instrument\")\n",
        "\n",
        "class Guitar(Instrument):\n",
        "    def play(self):\n",
        "        print(\"Playing the Guitar\")\n",
        "\n",
        "class Piano(Instrument):\n",
        "    def play(self):\n",
        "        print(\"Playing the Piano\")\n",
        "\n",
        "instrument = Instrument()\n",
        "instrument.play()  # Output: Playing an instrument\n",
        "\n",
        "guitar = Guitar()\n",
        "guitar.play()  # Output: Playing the Guitar\n",
        "\n",
        "piano = Piano()\n",
        "piano.play()  # Output: Playing the Piano\n"
      ],
      "metadata": {
        "colab": {
          "base_uri": "https://localhost:8080/"
        },
        "id": "nIcvBBPVCg0E",
        "outputId": "463788e9-545e-477d-d62c-1ad7581441d0"
      },
      "execution_count": null,
      "outputs": [
        {
          "output_type": "stream",
          "name": "stdout",
          "text": [
            "Playing an instrument\n",
            "Playing the Guitar\n",
            "Playing the Piano\n"
          ]
        }
      ]
    },
    {
      "cell_type": "code",
      "source": [
        "# 7. Create a class MathOperations with a class method add_numbers() to add two numbers and a static\n",
        "# method subtract_numbers() to subtract two numbers.\n",
        "class MathOperations:\n",
        "    @classmethod\n",
        "    def add_numbers(cls, a, b):\n",
        "        return a + b\n",
        "\n",
        "    @staticmethod\n",
        "    def subtract_numbers(a, b):\n",
        "        return a - b\n",
        "\n",
        "\n",
        "print(MathOperations.add_numbers(5, 3))  # Output: 8\n",
        "print(MathOperations.subtract_numbers(5, 3))  # Output: 2"
      ],
      "metadata": {
        "colab": {
          "base_uri": "https://localhost:8080/"
        },
        "id": "zM_m3m_UCt38",
        "outputId": "9c630188-8d74-4631-b2ed-5a16201b994b"
      },
      "execution_count": null,
      "outputs": [
        {
          "output_type": "stream",
          "name": "stdout",
          "text": [
            "8\n",
            "2\n"
          ]
        }
      ]
    },
    {
      "cell_type": "code",
      "source": [
        "# 8. Implement a class Person with a class method to count the total number of persons created.\n",
        "class Person:\n",
        "    count = 0\n",
        "\n",
        "    def __init__(self, name, age):\n",
        "        self.name = name\n",
        "        self.age = age\n",
        "        Person.count += 1\n",
        "\n",
        "    @classmethod\n",
        "    def get_person_count(cls):\n",
        "        return cls.count\n",
        "\n",
        "# Example Usage\n",
        "person1 = Person(\"Alice\", 25)\n",
        "person2 = Person(\"Bob\", 30)\n",
        "print(Person.get_person_count())  # Output: 2"
      ],
      "metadata": {
        "id": "jJ8aBvQkC3J2",
        "colab": {
          "base_uri": "https://localhost:8080/"
        },
        "outputId": "85871693-7bfa-48bf-9d32-f096ccfae263"
      },
      "execution_count": null,
      "outputs": [
        {
          "output_type": "stream",
          "name": "stdout",
          "text": [
            "2\n"
          ]
        }
      ]
    },
    {
      "cell_type": "code",
      "source": [
        "# 9. Write a class Fraction with attributes numerator and denominator. Override the str method to display the\n",
        "# fraction as \"numerator/denominator\".\n",
        "class Fraction:\n",
        "    def __init__(self, numerator, denominator):\n",
        "        self.numerator = numerator\n",
        "        self.denominator = denominator\n",
        "\n",
        "    def __str__(self):\n",
        "        return f\"{self.numerator}/{self.denominator}\"\n",
        "\n",
        "fraction = Fraction(3, 4)\n",
        "print(fraction)  # Output: 3/4\n"
      ],
      "metadata": {
        "colab": {
          "base_uri": "https://localhost:8080/"
        },
        "id": "6nUvUbgSRWET",
        "outputId": "c3a92c8d-eb57-47ac-bfe4-e94c89cb3b48"
      },
      "execution_count": null,
      "outputs": [
        {
          "output_type": "stream",
          "name": "stdout",
          "text": [
            "3/4\n"
          ]
        }
      ]
    },
    {
      "cell_type": "code",
      "source": [
        "# 10. Demonstrate operator overloading by creating a class Vector and overriding the add method to add two\n",
        "# vectors.\n",
        "class Vector:\n",
        "    def __init__(self, x, y):\n",
        "        self.x = x\n",
        "        self.y = y\n",
        "\n",
        "    def __add__(self, other):\n",
        "        return Vector(self.x + other.x, self.y + other.y)\n",
        "\n",
        "    def __str__(self):\n",
        "        return f\"({self.x}, {self.y})\"\n",
        "v1 = Vector(1, 2)\n",
        "v2 = Vector(3, 4)\n",
        "v3 = v1 + v2\n",
        "print(v3)  # Output: (4, 6)"
      ],
      "metadata": {
        "colab": {
          "base_uri": "https://localhost:8080/"
        },
        "id": "fvY1jdYMRhVr",
        "outputId": "a198c115-49ce-4912-dfd8-8afc56f2d3e8"
      },
      "execution_count": null,
      "outputs": [
        {
          "output_type": "stream",
          "name": "stdout",
          "text": [
            "(4, 6)\n"
          ]
        }
      ]
    },
    {
      "cell_type": "code",
      "source": [
        "# 11. Create a class Person with attributes name and age. Add a method greet() that prints \"Hello, my name is\n",
        "# {name} and I am {age} years old.\"\n",
        "\n",
        "class Person:\n",
        "    def __init__(self, name, age):\n",
        "        self.name = name\n",
        "        self.age = age\n",
        "\n",
        "    def greet(self):\n",
        "        print(f\"Hello, my name is {self.name} and I am {self.age} years old.\")\n",
        "\n",
        "\n",
        "person = Person(\"Alice\", 25)\n",
        "person.greet()  # Output: Hello, my name is Alice and I am 25 years old."
      ],
      "metadata": {
        "colab": {
          "base_uri": "https://localhost:8080/"
        },
        "id": "ZI22N0dKRrV6",
        "outputId": "37763c94-7591-48ba-af5e-3b305876d0db"
      },
      "execution_count": null,
      "outputs": [
        {
          "output_type": "stream",
          "name": "stdout",
          "text": [
            "Hello, my name is Alice and I am 25 years old.\n"
          ]
        }
      ]
    },
    {
      "cell_type": "code",
      "source": [
        "# 12. Implement a class Student with attributes name and grades. Create a method average_grade() to compute\n",
        "# the average of the grades.\n",
        "class Student:\n",
        "    def __init__(self, name, grades):\n",
        "        self.name = name\n",
        "        self.grades = grades\n",
        "\n",
        "    def average_grade(self):\n",
        "        return sum(self.grades) / len(self.grades)\n",
        "\n",
        "student = Student(\"Alice\", [85, 90, 78])\n",
        "print(student.average_grade())  # Output: 84.33\n"
      ],
      "metadata": {
        "colab": {
          "base_uri": "https://localhost:8080/"
        },
        "id": "ucfmRK_RR0Ai",
        "outputId": "45bb9dce-f0ef-4d8c-99bc-234069e629c3"
      },
      "execution_count": null,
      "outputs": [
        {
          "output_type": "stream",
          "name": "stdout",
          "text": [
            "84.33333333333333\n"
          ]
        }
      ]
    },
    {
      "cell_type": "code",
      "source": [
        "# 13. Create a class Rectangle with methods set_dimensions() to set the dimensions and area() to calculate the\n",
        "# area.\n",
        "class Rectangle:\n",
        "    def __init__(self):\n",
        "        self.length = 0\n",
        "        self.width = 0\n",
        "\n",
        "    def set_dimensions(self, length, width):\n",
        "        self.length = length\n",
        "        self.width = width\n",
        "\n",
        "    def area(self):\n",
        "        return self.length * self.width\n",
        "\n",
        "\n",
        "rectangle = Rectangle()\n",
        "rectangle.set_dimensions(4, 6)\n",
        "print(rectangle.area())  # Output: 24\n"
      ],
      "metadata": {
        "colab": {
          "base_uri": "https://localhost:8080/"
        },
        "id": "l0C72CoOR6sC",
        "outputId": "f79271bc-c5ea-44a1-9df8-d7205ed736dd"
      },
      "execution_count": null,
      "outputs": [
        {
          "output_type": "stream",
          "name": "stdout",
          "text": [
            "24\n"
          ]
        }
      ]
    },
    {
      "cell_type": "code",
      "source": [
        "# 14. Create a class Employee with a method calculate_salary() that computes the salary based on hours worked\n",
        "# and hourly rate. Create a derived class Manager that adds a bonus to the salary.\n",
        "\n",
        "class Employee:\n",
        "    def __init__(self, hours_worked, hourly_rate):\n",
        "        self.hours_worked = hours_worked\n",
        "        self.hourly_rate = hourly_rate\n",
        "\n",
        "    def calculate_salary(self):\n",
        "        return self.hours_worked * self.hourly_rate\n",
        "\n",
        "class Manager(Employee):\n",
        "    def __init__(self, hours_worked, hourly_rate, bonus):\n",
        "        super().__init__(hours_worked, hourly_rate)\n",
        "        self.bonus = bonus\n",
        "\n",
        "    def calculate_salary(self):\n",
        "        return super().calculate_salary() + self.bonus\n",
        "\n",
        "\n",
        "employee = Employee(40, 20)\n",
        "print(employee.calculate_salary())  # Output: 800\n",
        "\n",
        "manager = Manager(40, 30, 500)\n",
        "print(manager.calculate_salary())  # Output: 1700"
      ],
      "metadata": {
        "colab": {
          "base_uri": "https://localhost:8080/"
        },
        "id": "dgnSWNZbSB9S",
        "outputId": "0ed25992-2cf1-4f1f-e6a6-99e99e382b6d"
      },
      "execution_count": null,
      "outputs": [
        {
          "output_type": "stream",
          "name": "stdout",
          "text": [
            "800\n",
            "1700\n"
          ]
        }
      ]
    },
    {
      "cell_type": "code",
      "source": [
        "# 15. Create a class Product with attributes name, price, and quantity. Implement a method total_price() that\n",
        "# calculates the total price of the product.\n",
        "\n",
        "class Product:\n",
        "    def __init__(self, name, price, quantity):\n",
        "        self.name = name\n",
        "        self.price = price\n",
        "        self.quantity = quantity\n",
        "\n",
        "    def total_price(self):\n",
        "        return self.price * self.quantity\n",
        "\n",
        "product = Product(\"Laptop\", 1000, 3)\n",
        "print(product.total_price())  # Output: 3000"
      ],
      "metadata": {
        "colab": {
          "base_uri": "https://localhost:8080/"
        },
        "id": "u8IF7rdDSLWD",
        "outputId": "5e52c61f-ecee-41a8-d37e-a6f66b65b7b2"
      },
      "execution_count": null,
      "outputs": [
        {
          "output_type": "stream",
          "name": "stdout",
          "text": [
            "3000\n"
          ]
        }
      ]
    },
    {
      "cell_type": "code",
      "source": [
        "# 16. Create a class Animal with an abstract method sound(). Create two derived classes Cow and Sheep that\n",
        "# implement the sound() method.\n",
        "\n",
        "from abc import ABC, abstractmethod\n",
        "\n",
        "class Animal(ABC):\n",
        "    @abstractmethod\n",
        "    def sound(self):\n",
        "        pass\n",
        "\n",
        "class Cow(Animal):\n",
        "    def sound(self):\n",
        "        print(\"Moo\")\n",
        "\n",
        "class Sheep(Animal):\n",
        "    def sound(self):\n",
        "        print(\"Baa\")\n",
        "\n",
        "cow = Cow()\n",
        "cow.sound()  # Output: Moo\n",
        "\n",
        "sheep = Sheep()\n",
        "\n",
        "sheep.sound()  # Output: Baa"
      ],
      "metadata": {
        "colab": {
          "base_uri": "https://localhost:8080/"
        },
        "id": "CczZ2bivSS2j",
        "outputId": "d89fb265-828a-401d-c94f-70e585678ec6"
      },
      "execution_count": null,
      "outputs": [
        {
          "output_type": "stream",
          "name": "stdout",
          "text": [
            "Moo\n",
            "Baa\n"
          ]
        }
      ]
    },
    {
      "cell_type": "code",
      "source": [
        "# 17. Create a class Book with attributes title, author, and year_published. Add a method get_book_info() that\n",
        "# returns a formatted string with the book's details.\n",
        "class Book:\n",
        "    def __init__(self, title, author, year_published):\n",
        "        self.title = title\n",
        "        self.author = author\n",
        "        self.year_published = year_published\n",
        "\n",
        "    def get_book_info(self):\n",
        "        return f\"Title: {self.title}, Author: {self.author}, Year Published: {self.year_published}\"\n",
        "\n",
        "book = Book(\"1984\", \"George Orwell\", 1949)\n",
        "print(book.get_book_info())  # Output: Title: 1984, Author: George Orwell, Year Published: 1949"
      ],
      "metadata": {
        "colab": {
          "base_uri": "https://localhost:8080/"
        },
        "id": "BI7GfCk6SaBM",
        "outputId": "5a9e4a55-f5f8-42e6-eae8-f919ce51d248"
      },
      "execution_count": null,
      "outputs": [
        {
          "output_type": "stream",
          "name": "stdout",
          "text": [
            "Title: 1984, Author: George Orwell, Year Published: 1949\n"
          ]
        }
      ]
    },
    {
      "cell_type": "code",
      "source": [
        "# 18. Create a class House with attributes address and price. Create a derived class Mansion that adds an\n",
        "# attribute number_of_rooms.\n",
        "class House:\n",
        "    def __init__(self, address, price):\n",
        "        self.address = address\n",
        "        self.price = price\n",
        "\n",
        "class Mansion(House):\n",
        "    def __init__(self, address, price, number_of_rooms):\n",
        "        super().__init__(address, price)\n",
        "        self.number_of_rooms = number_of_rooms\n",
        "\n",
        "mansion = Mansion(\"123 Luxury St.\", 500000, 10)"
      ],
      "metadata": {
        "id": "LUpi4ZZpB4l1"
      },
      "execution_count": null,
      "outputs": []
    }
  ]
}